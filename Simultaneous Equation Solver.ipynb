{
 "cells": [
  {
   "cell_type": "code",
   "execution_count": 1,
   "metadata": {
    "collapsed": true
   },
   "outputs": [],
   "source": [
    "import re\n",
    "import numpy as np"
   ]
  },
  {
   "cell_type": "code",
   "execution_count": 2,
   "metadata": {
    "collapsed": true
   },
   "outputs": [],
   "source": [
    "def simuEq():\n",
    "    equations = []\n",
    "    equation = \"\"\n",
    "    while True:\n",
    "        equation = input(\"Enter Equation: \")\n",
    "        equation = equation.replace(\" \",\"\")\n",
    "        if equation == \"\":\n",
    "            break\n",
    "        equations.append(equation)\n",
    "    unknowns = set()\n",
    "    for i in equations:\n",
    "        unknowns.update(set(re.findall(\"[a-zA-Z]+\",i)))\n",
    "    le = len(equations)\n",
    "    lu = len(unknowns)\n",
    "    if le < lu:\n",
    "        print(\"Can't Solve This Equation!\")\n",
    "        return \n",
    "    variables = np.zeros((lu,le))\n",
    "    equals = np.zeros((le,1))\n",
    "    row = 0\n",
    "    try:\n",
    "        for eq in equations:\n",
    "            column = 0\n",
    "            e = re.findall(\"=[0-9.]+\",eq)\n",
    "            e = e[0][1:]\n",
    "            equals[row][0] = float(e)\n",
    "            for var in unknowns:\n",
    "                pattern=\"[+-]?[0-9.]*\"+ var\n",
    "                varCom = re.findall(pattern,eq)\n",
    "                com = 0 \n",
    "                if not varCom == []:\n",
    "                    for i in varCom:\n",
    "                        if i == '+'+var or i == var:\n",
    "                            com +=1 \n",
    "                        elif i == \"-\"+var:\n",
    "                            com -= 1\n",
    "                        else:\n",
    "                            com += float(i[:-len(var)])\n",
    "                variables[row][column] += com\n",
    "                column+=1\n",
    "            row += 1\n",
    "    except:\n",
    "        print(\"An unexpected Error Occured while trying to solve the given problem! Please contact developer!\")\n",
    "    else:\n",
    "        try:\n",
    "            solution = np.linalg.solve(variables,equals)\n",
    "            for var,e in zip(unknowns,solution):\n",
    "                print(f\"{var} = {e[0]}\")\n",
    "        except :\n",
    "            print(\"Error! May be thier are more than one solution to this problem!\")\n",
    "        "
   ]
  },
  {
   "cell_type": "code",
   "execution_count": 3,
   "metadata": {},
   "outputs": [
    {
     "name": "stdout",
     "output_type": "stream",
     "text": [
      "Enter Equation: shreyash+nipun=10\n",
      "Enter Equation: shreyash=5\n",
      "Enter Equation: \n",
      "shreyash = 5.0\n",
      "nipun = 5.0\n"
     ]
    }
   ],
   "source": [
    "simuEq()\n",
    "\n",
    "\n",
    "\n"
   ]
  },
  {
   "cell_type": "code",
   "execution_count": 4,
   "metadata": {},
   "outputs": [
    {
     "name": "stdout",
     "output_type": "stream",
     "text": [
      "Hello\n"
     ]
    }
   ],
   "source": [
    "print(\"Hello\")"
   ]
  },
  {
   "cell_type": "code",
   "execution_count": null,
   "metadata": {
    "collapsed": true
   },
   "outputs": [],
   "source": []
  },
  {
   "cell_type": "code",
   "execution_count": null,
   "metadata": {
    "collapsed": true
   },
   "outputs": [],
   "source": []
  }
 ],
 "metadata": {
  "kernelspec": {
   "display_name": "Python 3",
   "language": "python",
   "name": "python3"
  },
  "language_info": {
   "codemirror_mode": {
    "name": "ipython",
    "version": 3
   },
   "file_extension": ".py",
   "mimetype": "text/x-python",
   "name": "python",
   "nbconvert_exporter": "python",
   "pygments_lexer": "ipython3",
   "version": "3.6.3"
  }
 },
 "nbformat": 4,
 "nbformat_minor": 2
}
